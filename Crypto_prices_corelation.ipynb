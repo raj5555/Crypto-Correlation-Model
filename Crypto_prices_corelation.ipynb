{
 "cells": [
  {
   "cell_type": "markdown",
   "metadata": {},
   "source": [
    "# Pearson Corelation for BTC,ETH,LTC,XRP Crypto Currencies"
   ]
  },
  {
   "cell_type": "code",
   "execution_count": 14,
   "metadata": {},
   "outputs": [],
   "source": [
    "import pandas as pd\n",
    "import seaborn as sns\n",
    "import matplotlib.pyplot as plt\n",
    "import numpy as np"
   ]
  },
  {
   "cell_type": "code",
   "execution_count": 2,
   "metadata": {},
   "outputs": [],
   "source": [
    "def read_dataset(filename):\n",
    "    print('Reading data from %s' % filename)\n",
    "    df = pd.read_csv(filename)\n",
    "    df.datetime = pd.to_datetime(df.datetime) # change to datetime\n",
    "    df = df.set_index('datetime') \n",
    "    df = df.sort_index() # sort by datetime\n",
    "    print(df.shape)\n",
    "    return df"
   ]
  },
  {
   "cell_type": "code",
   "execution_count": 4,
   "metadata": {},
   "outputs": [
    {
     "name": "stdout",
     "output_type": "stream",
     "text": [
      "Reading data from prices_2020/BTC_2020.csv\n",
      "(366, 6)\n",
      "Reading data from prices_2020/ETH_2020.csv\n",
      "(366, 6)\n",
      "Reading data from prices_2020/LTC_2020.csv\n",
      "(366, 6)\n",
      "Reading data from prices_2020/XRP_2020.csv\n",
      "(366, 6)\n"
     ]
    }
   ],
   "source": [
    "#Reading Datasets\n",
    "df_btc = read_dataset('prices_2020/BTC_2020.csv')\n",
    "df_eth = read_dataset('prices_2020/ETH_2020.csv')\n",
    "df_ltc = read_dataset('prices_2020/LTC_2020.csv')\n",
    "df_xrp = read_dataset('prices_2020/XRP_2020.csv')"
   ]
  },
  {
   "cell_type": "code",
   "execution_count": 5,
   "metadata": {},
   "outputs": [
    {
     "data": {
      "text/html": [
       "<div>\n",
       "<style scoped>\n",
       "    .dataframe tbody tr th:only-of-type {\n",
       "        vertical-align: middle;\n",
       "    }\n",
       "\n",
       "    .dataframe tbody tr th {\n",
       "        vertical-align: top;\n",
       "    }\n",
       "\n",
       "    .dataframe thead th {\n",
       "        text-align: right;\n",
       "    }\n",
       "</style>\n",
       "<table border=\"1\" class=\"dataframe\">\n",
       "  <thead>\n",
       "    <tr style=\"text-align: right;\">\n",
       "      <th></th>\n",
       "      <th>low</th>\n",
       "      <th>high</th>\n",
       "      <th>open</th>\n",
       "      <th>close</th>\n",
       "      <th>volumefrom</th>\n",
       "      <th>volumeto</th>\n",
       "    </tr>\n",
       "    <tr>\n",
       "      <th>datetime</th>\n",
       "      <th></th>\n",
       "      <th></th>\n",
       "      <th></th>\n",
       "      <th></th>\n",
       "      <th></th>\n",
       "      <th></th>\n",
       "    </tr>\n",
       "  </thead>\n",
       "  <tbody>\n",
       "    <tr>\n",
       "      <th>2020-01-01</th>\n",
       "      <td>7150.00</td>\n",
       "      <td>7237.35</td>\n",
       "      <td>7168.36</td>\n",
       "      <td>7178.68</td>\n",
       "      <td>1119.11</td>\n",
       "      <td>8052270.93</td>\n",
       "    </tr>\n",
       "    <tr>\n",
       "      <th>2020-01-02</th>\n",
       "      <td>6900.00</td>\n",
       "      <td>7184.94</td>\n",
       "      <td>7178.68</td>\n",
       "      <td>6950.56</td>\n",
       "      <td>3972.71</td>\n",
       "      <td>27928978.29</td>\n",
       "    </tr>\n",
       "    <tr>\n",
       "      <th>2020-01-03</th>\n",
       "      <td>6853.53</td>\n",
       "      <td>7402.31</td>\n",
       "      <td>6950.56</td>\n",
       "      <td>7338.91</td>\n",
       "      <td>8072.73</td>\n",
       "      <td>58367332.83</td>\n",
       "    </tr>\n",
       "    <tr>\n",
       "      <th>2020-01-04</th>\n",
       "      <td>7256.03</td>\n",
       "      <td>7396.10</td>\n",
       "      <td>7338.91</td>\n",
       "      <td>7344.48</td>\n",
       "      <td>3256.74</td>\n",
       "      <td>23825437.64</td>\n",
       "    </tr>\n",
       "    <tr>\n",
       "      <th>2020-01-05</th>\n",
       "      <td>7310.00</td>\n",
       "      <td>7495.00</td>\n",
       "      <td>7344.48</td>\n",
       "      <td>7356.70</td>\n",
       "      <td>2707.27</td>\n",
       "      <td>20108463.48</td>\n",
       "    </tr>\n",
       "  </tbody>\n",
       "</table>\n",
       "</div>"
      ],
      "text/plain": [
       "                low     high     open    close  volumefrom     volumeto\n",
       "datetime                                                               \n",
       "2020-01-01  7150.00  7237.35  7168.36  7178.68     1119.11   8052270.93\n",
       "2020-01-02  6900.00  7184.94  7178.68  6950.56     3972.71  27928978.29\n",
       "2020-01-03  6853.53  7402.31  6950.56  7338.91     8072.73  58367332.83\n",
       "2020-01-04  7256.03  7396.10  7338.91  7344.48     3256.74  23825437.64\n",
       "2020-01-05  7310.00  7495.00  7344.48  7356.70     2707.27  20108463.48"
      ]
     },
     "execution_count": 5,
     "metadata": {},
     "output_type": "execute_result"
    }
   ],
   "source": [
    "df_btc.head()"
   ]
  },
  {
   "cell_type": "code",
   "execution_count": 6,
   "metadata": {},
   "outputs": [
    {
     "data": {
      "text/html": [
       "<div>\n",
       "<style scoped>\n",
       "    .dataframe tbody tr th:only-of-type {\n",
       "        vertical-align: middle;\n",
       "    }\n",
       "\n",
       "    .dataframe tbody tr th {\n",
       "        vertical-align: top;\n",
       "    }\n",
       "\n",
       "    .dataframe thead th {\n",
       "        text-align: right;\n",
       "    }\n",
       "</style>\n",
       "<table border=\"1\" class=\"dataframe\">\n",
       "  <thead>\n",
       "    <tr style=\"text-align: right;\">\n",
       "      <th></th>\n",
       "      <th>low</th>\n",
       "      <th>high</th>\n",
       "      <th>open</th>\n",
       "      <th>close</th>\n",
       "      <th>volumefrom</th>\n",
       "      <th>volumeto</th>\n",
       "    </tr>\n",
       "    <tr>\n",
       "      <th>datetime</th>\n",
       "      <th></th>\n",
       "      <th></th>\n",
       "      <th></th>\n",
       "      <th></th>\n",
       "      <th></th>\n",
       "      <th></th>\n",
       "    </tr>\n",
       "  </thead>\n",
       "  <tbody>\n",
       "    <tr>\n",
       "      <th>2020-01-01</th>\n",
       "      <td>128.17</td>\n",
       "      <td>132.64</td>\n",
       "      <td>128.63</td>\n",
       "      <td>130.27</td>\n",
       "      <td>9263.16</td>\n",
       "      <td>1210406.89</td>\n",
       "    </tr>\n",
       "    <tr>\n",
       "      <th>2020-01-02</th>\n",
       "      <td>125.67</td>\n",
       "      <td>130.31</td>\n",
       "      <td>130.27</td>\n",
       "      <td>126.76</td>\n",
       "      <td>14036.97</td>\n",
       "      <td>1805954.87</td>\n",
       "    </tr>\n",
       "    <tr>\n",
       "      <th>2020-01-03</th>\n",
       "      <td>125.55</td>\n",
       "      <td>134.90</td>\n",
       "      <td>126.76</td>\n",
       "      <td>133.89</td>\n",
       "      <td>33830.22</td>\n",
       "      <td>4428329.72</td>\n",
       "    </tr>\n",
       "    <tr>\n",
       "      <th>2020-01-04</th>\n",
       "      <td>132.30</td>\n",
       "      <td>135.69</td>\n",
       "      <td>133.89</td>\n",
       "      <td>133.85</td>\n",
       "      <td>8324.23</td>\n",
       "      <td>1110753.55</td>\n",
       "    </tr>\n",
       "    <tr>\n",
       "      <th>2020-01-05</th>\n",
       "      <td>133.85</td>\n",
       "      <td>138.23</td>\n",
       "      <td>133.85</td>\n",
       "      <td>134.94</td>\n",
       "      <td>6286.34</td>\n",
       "      <td>856024.29</td>\n",
       "    </tr>\n",
       "  </tbody>\n",
       "</table>\n",
       "</div>"
      ],
      "text/plain": [
       "               low    high    open   close  volumefrom    volumeto\n",
       "datetime                                                          \n",
       "2020-01-01  128.17  132.64  128.63  130.27     9263.16  1210406.89\n",
       "2020-01-02  125.67  130.31  130.27  126.76    14036.97  1805954.87\n",
       "2020-01-03  125.55  134.90  126.76  133.89    33830.22  4428329.72\n",
       "2020-01-04  132.30  135.69  133.89  133.85     8324.23  1110753.55\n",
       "2020-01-05  133.85  138.23  133.85  134.94     6286.34   856024.29"
      ]
     },
     "execution_count": 6,
     "metadata": {},
     "output_type": "execute_result"
    }
   ],
   "source": [
    "df_eth.head()"
   ]
  },
  {
   "cell_type": "code",
   "execution_count": 7,
   "metadata": {},
   "outputs": [
    {
     "data": {
      "text/html": [
       "<div>\n",
       "<style scoped>\n",
       "    .dataframe tbody tr th:only-of-type {\n",
       "        vertical-align: middle;\n",
       "    }\n",
       "\n",
       "    .dataframe tbody tr th {\n",
       "        vertical-align: top;\n",
       "    }\n",
       "\n",
       "    .dataframe thead th {\n",
       "        text-align: right;\n",
       "    }\n",
       "</style>\n",
       "<table border=\"1\" class=\"dataframe\">\n",
       "  <thead>\n",
       "    <tr style=\"text-align: right;\">\n",
       "      <th></th>\n",
       "      <th>low</th>\n",
       "      <th>high</th>\n",
       "      <th>open</th>\n",
       "      <th>close</th>\n",
       "      <th>volumefrom</th>\n",
       "      <th>volumeto</th>\n",
       "    </tr>\n",
       "    <tr>\n",
       "      <th>datetime</th>\n",
       "      <th></th>\n",
       "      <th></th>\n",
       "      <th></th>\n",
       "      <th></th>\n",
       "      <th></th>\n",
       "      <th></th>\n",
       "    </tr>\n",
       "  </thead>\n",
       "  <tbody>\n",
       "    <tr>\n",
       "      <th>2020-01-01</th>\n",
       "      <td>41.00</td>\n",
       "      <td>41.97</td>\n",
       "      <td>41.09</td>\n",
       "      <td>41.39</td>\n",
       "      <td>3202.84</td>\n",
       "      <td>132752.57</td>\n",
       "    </tr>\n",
       "    <tr>\n",
       "      <th>2020-01-02</th>\n",
       "      <td>38.97</td>\n",
       "      <td>41.61</td>\n",
       "      <td>41.39</td>\n",
       "      <td>39.28</td>\n",
       "      <td>13464.37</td>\n",
       "      <td>537963.59</td>\n",
       "    </tr>\n",
       "    <tr>\n",
       "      <th>2020-01-03</th>\n",
       "      <td>38.61</td>\n",
       "      <td>42.35</td>\n",
       "      <td>39.28</td>\n",
       "      <td>42.15</td>\n",
       "      <td>41355.50</td>\n",
       "      <td>1696013.31</td>\n",
       "    </tr>\n",
       "    <tr>\n",
       "      <th>2020-01-04</th>\n",
       "      <td>41.74</td>\n",
       "      <td>42.80</td>\n",
       "      <td>42.15</td>\n",
       "      <td>42.79</td>\n",
       "      <td>17694.60</td>\n",
       "      <td>748682.58</td>\n",
       "    </tr>\n",
       "    <tr>\n",
       "      <th>2020-01-05</th>\n",
       "      <td>42.58</td>\n",
       "      <td>44.50</td>\n",
       "      <td>42.79</td>\n",
       "      <td>43.25</td>\n",
       "      <td>6149.57</td>\n",
       "      <td>267121.67</td>\n",
       "    </tr>\n",
       "  </tbody>\n",
       "</table>\n",
       "</div>"
      ],
      "text/plain": [
       "              low   high   open  close  volumefrom    volumeto\n",
       "datetime                                                      \n",
       "2020-01-01  41.00  41.97  41.09  41.39     3202.84   132752.57\n",
       "2020-01-02  38.97  41.61  41.39  39.28    13464.37   537963.59\n",
       "2020-01-03  38.61  42.35  39.28  42.15    41355.50  1696013.31\n",
       "2020-01-04  41.74  42.80  42.15  42.79    17694.60   748682.58\n",
       "2020-01-05  42.58  44.50  42.79  43.25     6149.57   267121.67"
      ]
     },
     "execution_count": 7,
     "metadata": {},
     "output_type": "execute_result"
    }
   ],
   "source": [
    "df_ltc.head()"
   ]
  },
  {
   "cell_type": "code",
   "execution_count": 8,
   "metadata": {},
   "outputs": [
    {
     "data": {
      "text/html": [
       "<div>\n",
       "<style scoped>\n",
       "    .dataframe tbody tr th:only-of-type {\n",
       "        vertical-align: middle;\n",
       "    }\n",
       "\n",
       "    .dataframe tbody tr th {\n",
       "        vertical-align: top;\n",
       "    }\n",
       "\n",
       "    .dataframe thead th {\n",
       "        text-align: right;\n",
       "    }\n",
       "</style>\n",
       "<table border=\"1\" class=\"dataframe\">\n",
       "  <thead>\n",
       "    <tr style=\"text-align: right;\">\n",
       "      <th></th>\n",
       "      <th>low</th>\n",
       "      <th>high</th>\n",
       "      <th>open</th>\n",
       "      <th>close</th>\n",
       "      <th>volumefrom</th>\n",
       "      <th>volumeto</th>\n",
       "    </tr>\n",
       "    <tr>\n",
       "      <th>datetime</th>\n",
       "      <th></th>\n",
       "      <th></th>\n",
       "      <th></th>\n",
       "      <th></th>\n",
       "      <th></th>\n",
       "      <th></th>\n",
       "    </tr>\n",
       "  </thead>\n",
       "  <tbody>\n",
       "    <tr>\n",
       "      <th>2020-01-01</th>\n",
       "      <td>0.1914</td>\n",
       "      <td>0.1947</td>\n",
       "      <td>0.1925</td>\n",
       "      <td>0.1925</td>\n",
       "      <td>6357233.56</td>\n",
       "      <td>1227933.30</td>\n",
       "    </tr>\n",
       "    <tr>\n",
       "      <th>2020-01-02</th>\n",
       "      <td>0.1847</td>\n",
       "      <td>0.1925</td>\n",
       "      <td>0.1925</td>\n",
       "      <td>0.1870</td>\n",
       "      <td>37935984.18</td>\n",
       "      <td>7175949.69</td>\n",
       "    </tr>\n",
       "    <tr>\n",
       "      <th>2020-01-03</th>\n",
       "      <td>0.1840</td>\n",
       "      <td>0.1939</td>\n",
       "      <td>0.1870</td>\n",
       "      <td>0.1931</td>\n",
       "      <td>54955918.24</td>\n",
       "      <td>10487422.93</td>\n",
       "    </tr>\n",
       "    <tr>\n",
       "      <th>2020-01-04</th>\n",
       "      <td>0.1902</td>\n",
       "      <td>0.1935</td>\n",
       "      <td>0.1931</td>\n",
       "      <td>0.1926</td>\n",
       "      <td>26697730.69</td>\n",
       "      <td>5132215.35</td>\n",
       "    </tr>\n",
       "    <tr>\n",
       "      <th>2020-01-05</th>\n",
       "      <td>0.1926</td>\n",
       "      <td>0.1974</td>\n",
       "      <td>0.1926</td>\n",
       "      <td>0.1945</td>\n",
       "      <td>24723525.55</td>\n",
       "      <td>4817268.86</td>\n",
       "    </tr>\n",
       "  </tbody>\n",
       "</table>\n",
       "</div>"
      ],
      "text/plain": [
       "               low    high    open   close   volumefrom     volumeto\n",
       "datetime                                                            \n",
       "2020-01-01  0.1914  0.1947  0.1925  0.1925   6357233.56   1227933.30\n",
       "2020-01-02  0.1847  0.1925  0.1925  0.1870  37935984.18   7175949.69\n",
       "2020-01-03  0.1840  0.1939  0.1870  0.1931  54955918.24  10487422.93\n",
       "2020-01-04  0.1902  0.1935  0.1931  0.1926  26697730.69   5132215.35\n",
       "2020-01-05  0.1926  0.1974  0.1926  0.1945  24723525.55   4817268.86"
      ]
     },
     "execution_count": 8,
     "metadata": {},
     "output_type": "execute_result"
    }
   ],
   "source": [
    "df_xrp.head()"
   ]
  },
  {
   "cell_type": "code",
   "execution_count": 9,
   "metadata": {},
   "outputs": [
    {
     "data": {
      "text/html": [
       "<div>\n",
       "<style scoped>\n",
       "    .dataframe tbody tr th:only-of-type {\n",
       "        vertical-align: middle;\n",
       "    }\n",
       "\n",
       "    .dataframe tbody tr th {\n",
       "        vertical-align: top;\n",
       "    }\n",
       "\n",
       "    .dataframe thead th {\n",
       "        text-align: right;\n",
       "    }\n",
       "</style>\n",
       "<table border=\"1\" class=\"dataframe\">\n",
       "  <thead>\n",
       "    <tr style=\"text-align: right;\">\n",
       "      <th></th>\n",
       "      <th>BTC</th>\n",
       "      <th>ETH</th>\n",
       "      <th>LTC</th>\n",
       "      <th>XRP</th>\n",
       "    </tr>\n",
       "    <tr>\n",
       "      <th>datetime</th>\n",
       "      <th></th>\n",
       "      <th></th>\n",
       "      <th></th>\n",
       "      <th></th>\n",
       "    </tr>\n",
       "  </thead>\n",
       "  <tbody>\n",
       "    <tr>\n",
       "      <th>2020-01-01</th>\n",
       "      <td>7178.68</td>\n",
       "      <td>130.27</td>\n",
       "      <td>41.39</td>\n",
       "      <td>0.1925</td>\n",
       "    </tr>\n",
       "    <tr>\n",
       "      <th>2020-01-02</th>\n",
       "      <td>6950.56</td>\n",
       "      <td>126.76</td>\n",
       "      <td>39.28</td>\n",
       "      <td>0.1870</td>\n",
       "    </tr>\n",
       "    <tr>\n",
       "      <th>2020-01-03</th>\n",
       "      <td>7338.91</td>\n",
       "      <td>133.89</td>\n",
       "      <td>42.15</td>\n",
       "      <td>0.1931</td>\n",
       "    </tr>\n",
       "    <tr>\n",
       "      <th>2020-01-04</th>\n",
       "      <td>7344.48</td>\n",
       "      <td>133.85</td>\n",
       "      <td>42.79</td>\n",
       "      <td>0.1926</td>\n",
       "    </tr>\n",
       "    <tr>\n",
       "      <th>2020-01-05</th>\n",
       "      <td>7356.70</td>\n",
       "      <td>134.94</td>\n",
       "      <td>43.25</td>\n",
       "      <td>0.1945</td>\n",
       "    </tr>\n",
       "  </tbody>\n",
       "</table>\n",
       "</div>"
      ],
      "text/plain": [
       "                BTC     ETH    LTC     XRP\n",
       "datetime                                  \n",
       "2020-01-01  7178.68  130.27  41.39  0.1925\n",
       "2020-01-02  6950.56  126.76  39.28  0.1870\n",
       "2020-01-03  7338.91  133.89  42.15  0.1931\n",
       "2020-01-04  7344.48  133.85  42.79  0.1926\n",
       "2020-01-05  7356.70  134.94  43.25  0.1945"
      ]
     },
     "execution_count": 9,
     "metadata": {},
     "output_type": "execute_result"
    }
   ],
   "source": [
    "df = pd.DataFrame({'BTC': df_btc.close,\n",
    "                   'ETH': df_eth.close,\n",
    "                   'LTC': df_ltc.close,\n",
    "                   'XRP': df_xrp.close})\n",
    "\n",
    "df.head()"
   ]
  },
  {
   "cell_type": "code",
   "execution_count": 11,
   "metadata": {},
   "outputs": [
    {
     "data": {
      "text/html": [
       "<div>\n",
       "<style scoped>\n",
       "    .dataframe tbody tr th:only-of-type {\n",
       "        vertical-align: middle;\n",
       "    }\n",
       "\n",
       "    .dataframe tbody tr th {\n",
       "        vertical-align: top;\n",
       "    }\n",
       "\n",
       "    .dataframe thead th {\n",
       "        text-align: right;\n",
       "    }\n",
       "</style>\n",
       "<table border=\"1\" class=\"dataframe\">\n",
       "  <thead>\n",
       "    <tr style=\"text-align: right;\">\n",
       "      <th></th>\n",
       "      <th>BTC</th>\n",
       "      <th>ETH</th>\n",
       "      <th>LTC</th>\n",
       "      <th>XRP</th>\n",
       "    </tr>\n",
       "  </thead>\n",
       "  <tbody>\n",
       "    <tr>\n",
       "      <th>count</th>\n",
       "      <td>366.000000</td>\n",
       "      <td>366.000000</td>\n",
       "      <td>366.000000</td>\n",
       "      <td>366.000000</td>\n",
       "    </tr>\n",
       "    <tr>\n",
       "      <th>mean</th>\n",
       "      <td>11115.817240</td>\n",
       "      <td>307.452432</td>\n",
       "      <td>56.232377</td>\n",
       "      <td>0.258212</td>\n",
       "    </tr>\n",
       "    <tr>\n",
       "      <th>std</th>\n",
       "      <td>4311.622136</td>\n",
       "      <td>144.424088</td>\n",
       "      <td>18.233240</td>\n",
       "      <td>0.104924</td>\n",
       "    </tr>\n",
       "    <tr>\n",
       "      <th>min</th>\n",
       "      <td>4841.670000</td>\n",
       "      <td>109.420000</td>\n",
       "      <td>30.760000</td>\n",
       "      <td>0.140600</td>\n",
       "    </tr>\n",
       "    <tr>\n",
       "      <th>25%</th>\n",
       "      <td>8885.310000</td>\n",
       "      <td>199.680000</td>\n",
       "      <td>44.155000</td>\n",
       "      <td>0.198425</td>\n",
       "    </tr>\n",
       "    <tr>\n",
       "      <th>50%</th>\n",
       "      <td>9716.445000</td>\n",
       "      <td>245.130000</td>\n",
       "      <td>48.850000</td>\n",
       "      <td>0.236400</td>\n",
       "    </tr>\n",
       "    <tr>\n",
       "      <th>75%</th>\n",
       "      <td>11664.525000</td>\n",
       "      <td>388.342500</td>\n",
       "      <td>61.035000</td>\n",
       "      <td>0.270950</td>\n",
       "    </tr>\n",
       "    <tr>\n",
       "      <th>max</th>\n",
       "      <td>28992.790000</td>\n",
       "      <td>752.710000</td>\n",
       "      <td>130.150000</td>\n",
       "      <td>0.694200</td>\n",
       "    </tr>\n",
       "  </tbody>\n",
       "</table>\n",
       "</div>"
      ],
      "text/plain": [
       "                BTC         ETH         LTC         XRP\n",
       "count    366.000000  366.000000  366.000000  366.000000\n",
       "mean   11115.817240  307.452432   56.232377    0.258212\n",
       "std     4311.622136  144.424088   18.233240    0.104924\n",
       "min     4841.670000  109.420000   30.760000    0.140600\n",
       "25%     8885.310000  199.680000   44.155000    0.198425\n",
       "50%     9716.445000  245.130000   48.850000    0.236400\n",
       "75%    11664.525000  388.342500   61.035000    0.270950\n",
       "max    28992.790000  752.710000  130.150000    0.694200"
      ]
     },
     "execution_count": 11,
     "metadata": {},
     "output_type": "execute_result"
    }
   ],
   "source": [
    "df.describe()"
   ]
  },
  {
   "cell_type": "markdown",
   "metadata": {},
   "source": [
    "The chart below shows the absolute closing prices. It is not of much use as BTC closing prices are much higher than prices of ETH and LTC and XRP."
   ]
  },
  {
   "cell_type": "code",
   "execution_count": 12,
   "metadata": {},
   "outputs": [
    {
     "data": {
      "text/plain": [
       "<matplotlib.axes._subplots.AxesSubplot at 0x7fb42e2f1b10>"
      ]
     },
     "execution_count": 12,
     "metadata": {},
     "output_type": "execute_result"
    },
    {
     "data": {
      "image/png": "[encoded data removed]",
      "text/plain": [
       "<Figure size 1080x720 with 1 Axes>"
      ]
     },
     "metadata": {
      "needs_background": "light"
     },
     "output_type": "display_data"
    }
   ],
   "source": [
    "df.plot(grid=True, figsize=(15, 10))"
   ]
  },
  {
   "cell_type": "markdown",
   "metadata": {},
   "source": [
    "# Measuring the correlation of closing prices \n",
    "We calculate the Pearson correlation between the closing prices of BTC, ETH, LTC, XRP. \n",
    "Pearson correlation is a measure of the linear correlation between two variables X and Y. It has a value between +1 and −1, where 1 is the total positive linear correlation, 0 is no linear correlation, and −1 is the total negative linear correlation. The correlation matrix is symmetric ."
   ]
  },
  {
   "cell_type": "code",
   "execution_count": 20,
   "metadata": {},
   "outputs": [
    {
     "data": {
      "text/html": [
       "<div>\n",
       "<style scoped>\n",
       "    .dataframe tbody tr th:only-of-type {\n",
       "        vertical-align: middle;\n",
       "    }\n",
       "\n",
       "    .dataframe tbody tr th {\n",
       "        vertical-align: top;\n",
       "    }\n",
       "\n",
       "    .dataframe thead th {\n",
       "        text-align: right;\n",
       "    }\n",
       "</style>\n",
       "<table border=\"1\" class=\"dataframe\">\n",
       "  <thead>\n",
       "    <tr style=\"text-align: right;\">\n",
       "      <th></th>\n",
       "      <th>BTC</th>\n",
       "      <th>ETH</th>\n",
       "      <th>LTC</th>\n",
       "      <th>XRP</th>\n",
       "    </tr>\n",
       "  </thead>\n",
       "  <tbody>\n",
       "    <tr>\n",
       "      <th>BTC</th>\n",
       "      <td>1.000000</td>\n",
       "      <td>0.940941</td>\n",
       "      <td>0.866755</td>\n",
       "      <td>0.714173</td>\n",
       "    </tr>\n",
       "    <tr>\n",
       "      <th>ETH</th>\n",
       "      <td>0.940941</td>\n",
       "      <td>1.000000</td>\n",
       "      <td>0.758979</td>\n",
       "      <td>0.750728</td>\n",
       "    </tr>\n",
       "    <tr>\n",
       "      <th>LTC</th>\n",
       "      <td>0.866755</td>\n",
       "      <td>0.758979</td>\n",
       "      <td>1.000000</td>\n",
       "      <td>0.675679</td>\n",
       "    </tr>\n",
       "    <tr>\n",
       "      <th>XRP</th>\n",
       "      <td>0.714173</td>\n",
       "      <td>0.750728</td>\n",
       "      <td>0.675679</td>\n",
       "      <td>1.000000</td>\n",
       "    </tr>\n",
       "  </tbody>\n",
       "</table>\n",
       "</div>"
      ],
      "text/plain": [
       "          BTC       ETH       LTC       XRP\n",
       "BTC  1.000000  0.940941  0.866755  0.714173\n",
       "ETH  0.940941  1.000000  0.758979  0.750728\n",
       "LTC  0.866755  0.758979  1.000000  0.675679\n",
       "XRP  0.714173  0.750728  0.675679  1.000000"
      ]
     },
     "execution_count": 20,
     "metadata": {},
     "output_type": "execute_result"
    }
   ],
   "source": [
    "# Compute the correlation matrix\n",
    "corr = df.corr()\n",
    "corr"
   ]
  },
  {
   "cell_type": "code",
   "execution_count": 19,
   "metadata": {},
   "outputs": [
    {
     "data": {
      "text/plain": [
       "<matplotlib.axes._subplots.AxesSubplot at 0x7fb428664c50>"
      ]
     },
     "execution_count": 19,
     "metadata": {},
     "output_type": "execute_result"
    },
    {
     "data": {
      "image/png": "[encoded data removed]",
      "text/plain": [
       "<Figure size 720x720 with 2 Axes>"
      ]
     },
     "metadata": {
      "needs_background": "light"
     },
     "output_type": "display_data"
    }
   ],
   "source": [
    "# Generate a mask for the upper triangle\n",
    "mask = np.zeros_like(corr, dtype=np.bool)\n",
    "mask[np.triu_indices_from(mask)] = True\n",
    "# Set up the matplotlib figure\n",
    "f, ax = plt.subplots(figsize=(10, 10))\n",
    "# Draw the heatmap with the mask and correct aspect ratio\n",
    "sns.heatmap(corr, annot=True, fmt = '.4f', mask=mask, center=0, square=True, linewidths=.5)"
   ]
  },
  {
   "cell_type": "markdown",
   "metadata": {},
   "source": [
    "# Observations:\n",
    "    BTC,XRP,LTC,ETH all 4 are higly corelated as the value is greater than 0.7\n",
    "    BTC and ETH are even more corelated with 0.9409"
   ]
  },
  {
   "cell_type": "markdown",
   "metadata": {},
   "source": [
    "# BY:\n",
    "    Dhanavath Rajesh\n",
    "    Prefinal year Dual Degree Student\n",
    "    ECE\n",
    "    IIT Kharagpur\n",
    "    9933432222\n",
    "    danavathrajesh123@gmail.com"
   ]
  }
 ],
 "metadata": {
  "kernelspec": {
   "display_name": "Python 3",
   "language": "python",
   "name": "python3"
  },
  "language_info": {
   "codemirror_mode": {
    "name": "ipython",
    "version": 3
   },
   "file_extension": ".py",
   "mimetype": "text/x-python",
   "name": "python",
   "nbconvert_exporter": "python",
   "pygments_lexer": "ipython3",
   "version": "3.7.6"
  }
 },
 "nbformat": 4,
 "nbformat_minor": 4
}
